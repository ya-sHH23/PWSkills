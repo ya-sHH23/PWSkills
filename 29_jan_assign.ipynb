{
 "cells": [
  {
   "cell_type": "markdown",
   "id": "22a43773-407c-4e82-8de4-3d0cb8fb4dc1",
   "metadata": {},
   "source": [
    " Q1. Who developed Python Programming Language?\n",
    " \n",
    " ans Guido van Rossum."
   ]
  },
  {
   "cell_type": "markdown",
   "id": "98204049-1a1a-4344-9f51-31c7b1dd1ac4",
   "metadata": {},
   "source": [
    "Q2. Which type of Programming does Python support? \n",
    "\n",
    "ans Object-oriented programming and structured programming."
   ]
  },
  {
   "cell_type": "markdown",
   "id": "2fb9e5b0-2087-4bd8-81dd-f46969855303",
   "metadata": {},
   "source": [
    "Q3. Is Python case sensitive when dealing with identifiers? \n",
    "\n",
    "ans Yes, Python is a case-sensitive language."
   ]
  },
  {
   "cell_type": "markdown",
   "id": "fe333f48-0897-4ade-a51e-af911bab0e0b",
   "metadata": {},
   "source": [
    "Q4. What is the correct extension of the Python file?\n",
    "\n",
    "ans  .py"
   ]
  },
  {
   "cell_type": "markdown",
   "id": "25c0467d-0491-45c2-9a28-e5d1926b0402",
   "metadata": {},
   "source": [
    "Q5. Is Python code compiled or interpreted?\n",
    "\n",
    "ans  Python is an interpreted language"
   ]
  },
  {
   "cell_type": "markdown",
   "id": "1f406609-66e8-47c6-8e28-5e093eb81284",
   "metadata": {},
   "source": [
    "Q6. Name a few blocks of code used to define in Python language? \n",
    "\n",
    "ans    Module,  function body, and  class definition."
   ]
  },
  {
   "cell_type": "markdown",
   "id": "c1355df1-9d40-4480-b588-926f26f7dd6e",
   "metadata": {},
   "source": [
    "Q7. State a character used to give single-line comments in Python? \n",
    "\n",
    "ans   # character"
   ]
  },
  {
   "cell_type": "markdown",
   "id": "0d7207eb-0740-4877-b00d-2acd09c12d20",
   "metadata": {},
   "source": [
    "Q8. Mention functions which can help us to find the version of python that we are \n",
    "currently working on?\n",
    "\n",
    "ans  sys.version"
   ]
  },
  {
   "cell_type": "markdown",
   "id": "f521cfce-b547-45a1-80b8-4b88cdbb1d04",
   "metadata": {},
   "source": [
    "Q9. Python supports the creation of anonymous functions at runtime, using a construct called\n",
    "\n",
    "ans   lambda"
   ]
  },
  {
   "cell_type": "markdown",
   "id": "50fdcd67-c9f8-494f-8de8-06ae5831bfe8",
   "metadata": {},
   "source": [
    "Q10. What does pip stand for python?\n",
    "\n",
    "ans  It help to install packages"
   ]
  },
  {
   "cell_type": "markdown",
   "id": "148c862b-9136-4787-be1b-c87f5517a1bb",
   "metadata": {},
   "source": [
    "Q11.Mention a few built-in functions in python? \n",
    "\n",
    "ans  print() int() type() float() "
   ]
  },
  {
   "cell_type": "markdown",
   "id": "d260dba4-7572-4a3e-a420-59ae4d4ba258",
   "metadata": {},
   "source": [
    "Q12. What is the maximum possible length of an identifier in Python?\n",
    "\n",
    "ans  79 characters"
   ]
  },
  {
   "cell_type": "markdown",
   "id": "ee93e499-5c5d-43e8-8c20-e576d65a6e91",
   "metadata": {},
   "source": [
    "Q13. What are the benefits of using Python? \n",
    "\n",
    "ans  Data science,Scientific and mathematical computing,Web development,Finance and trading."
   ]
  },
  {
   "cell_type": "markdown",
   "id": "52e4f964-6599-4185-ae75-5af8051cf75b",
   "metadata": {},
   "source": [
    "Q14. How is memory managed in Python? \n",
    "\n",
    "ans  Memory in Python is managed by Python private heap space. All Python objects and data structures are located in a private heap."
   ]
  },
  {
   "cell_type": "markdown",
   "id": "0e39909b-2afb-41c6-9eb2-c3f6efd62dcc",
   "metadata": {},
   "source": [
    "Q15. How to install Python on Windows and set path variables?\n",
    "\n",
    "ans. In the section entitled User Variables, double-click on the entry that says Path. Another window will pop up showing a list of paths. Click the New button and paste the path to your Python executable there. Once that's inserted, select your newly added path and click the Move Up button until it's at the top."
   ]
  },
  {
   "cell_type": "markdown",
   "id": "eb999115-a713-4868-ad6f-8ec14278b7be",
   "metadata": {},
   "source": [
    "Q16. Is indentation required in python?\n",
    "ans  Yes, indentation are very important in Python."
   ]
  },
  {
   "cell_type": "code",
   "execution_count": null,
   "id": "ab4b6796-3090-480f-9feb-c6e4a509891e",
   "metadata": {},
   "outputs": [],
   "source": []
  }
 ],
 "metadata": {
  "kernelspec": {
   "display_name": "Python 3 (ipykernel)",
   "language": "python",
   "name": "python3"
  },
  "language_info": {
   "codemirror_mode": {
    "name": "ipython",
    "version": 3
   },
   "file_extension": ".py",
   "mimetype": "text/x-python",
   "name": "python",
   "nbconvert_exporter": "python",
   "pygments_lexer": "ipython3",
   "version": "3.10.8"
  }
 },
 "nbformat": 4,
 "nbformat_minor": 5
}
